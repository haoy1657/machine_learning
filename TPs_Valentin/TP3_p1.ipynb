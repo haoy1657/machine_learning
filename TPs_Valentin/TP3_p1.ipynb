{
  "nbformat": 4,
  "nbformat_minor": 0,
  "metadata": {
    "colab": {
      "name": "TP3_p1.ipynb",
      "provenance": [],
      "collapsed_sections": []
    },
    "kernelspec": {
      "name": "python3",
      "display_name": "Python 3"
    },
    "language_info": {
      "name": "python"
    }
  },
  "cells": [
    {
      "cell_type": "code",
      "execution_count": 48,
      "metadata": {
        "colab": {
          "base_uri": "https://localhost:8080/",
          "height": 282
        },
        "id": "yje29TJO7iWk",
        "outputId": "1ed927bb-572e-42bc-bbde-65d8dadbbb68"
      },
      "outputs": [
        {
          "output_type": "execute_result",
          "data": {
            "text/plain": [
              "<function matplotlib.pyplot.show>"
            ]
          },
          "metadata": {},
          "execution_count": 48
        },
        {
          "output_type": "display_data",
          "data": {
            "image/png": "[encoded data removed]",
            "text/plain": [
              "<Figure size 432x288 with 1 Axes>"
            ]
          },
          "metadata": {
            "needs_background": "light"
          }
        }
      ],
      "source": [
        "import numpy as np\n",
        "import matplotlib.pyplot as plt\n",
        "import math\n",
        "\n",
        "from sklearn.metrics import confusion_matrix, accuracy_score, recall_score, precision_recall_fscore_support,precision_score,RocCurveDisplay #pas demandé ?\n",
        "\n",
        "\n",
        "[X_train, y_train, X_test, y_test] = np.load('TP3.npy',allow_pickle=True)\n",
        "#Pixel peau \n",
        "T_train = X_train[np.where(y_train==1),:] \n",
        "T_train = np.reshape(T_train,(T_train.shape[1],T_train.shape[2] )) \n",
        "#Pixel non peau \n",
        "F_train = X_train[np.where(y_train==0),:] \n",
        "F_train = np.reshape(F_train,(F_train.shape[1],F_train.shape[2] )) \n",
        "plt.plot(F_train[:,0], F_train[:,1], '.b') \n",
        "plt.show \n",
        "plt.plot(T_train[:,0], T_train[:,1], '.r') \n",
        "plt.show"
      ]
    },
    {
      "cell_type": "code",
      "source": [
        "from tokenize import endpats  #????????????????\n",
        "#print(y_test)\n",
        "#print(y_train)\n",
        "peau=0\n",
        "pas_peau=0\n",
        "for i in y_train:\n",
        "  if i==1:\n",
        "    peau+=1\n",
        "  else:\n",
        "    pas_peau+=1\n",
        "\n",
        "#print(len(y_test)) donne 284\n",
        "print('il y a',peau,'pixels de teinte chaire')     #print(len(T_train))\n",
        "print('il y a',pas_peau,'pixels de teinte non chaire')   #print(len(F_train))\n",
        "print('La dimension de X_test est:',np.shape(X_test))\n",
        "print('La dimension de X_train est:',np.shape(X_train))\n",
        "print('La dimension de y_test est:',np.shape(y_test))\n",
        "print('La dimension de y_train est:',np.shape(y_train))"
      ],
      "metadata": {
        "colab": {
          "base_uri": "https://localhost:8080/"
        },
        "id": "v15182u0-XvQ",
        "outputId": "b2e177a2-a11a-495b-db94-5e618aa2908b"
      },
      "execution_count": 49,
      "outputs": [
        {
          "output_type": "stream",
          "name": "stdout",
          "text": [
            "il y a 639 pixels de teinte chaire\n",
            "il y a 1731 pixels de teinte non chaire\n",
            "La dimension de X_test est: (284, 2)\n",
            "La dimension de X_train est: (2370, 2)\n",
            "La dimension de y_test est: (284,)\n",
            "La dimension de y_train est: (2370,)\n"
          ]
        }
      ]
    },
    {
      "cell_type": "code",
      "source": [
        "mCb=0\n",
        "mCr=0\n",
        "\n",
        "moy=np.mean(X_train,axis=0) #numpy.mean(arr, axis = None)\n",
        "#Compute the arithmetic mean (average) of the given data (array elements) along the specified axis.\n",
        "#axis = 0 means along the column and axis = 1 means working along the row\n",
        "#il y a deux colonnes dans X_train on a donc un mean par colonne renvoyé\n",
        "mCb=moy[0]  #la première moyenne correspond à la 1ère colonne de X_train donc la composante chromatique bleu\n",
        "mCr=moy[1]  #la deuxième moyenne correspond à la 2ère colonne de X_train donc la composante chromatique rouge\n",
        "\n",
        "n=1731\n",
        "\n",
        "sCb=np.sum((X_train[:,0]-mCb)**2,axis=0) \n",
        "sCr=np.sum((X_train[:,1]-mCr)**2,axis=0)\n",
        "sigma_Cb=np.sqrt(sCb/(n-1))\n",
        "sigma_Cr=np.sqrt(sCr/(n-1))\n",
        "\n",
        "#sigma_Cb=np.std(X_train[:,0])  #calcul ecart type #Mais les resultats sont différents\n",
        "#sigma_Cr=np.std(X_train[:,1])  #calcul ecart type\n",
        "\n",
        "print('La moyenne de la composante chromatique bleu Cb est:',mCb)\n",
        "print('La moyenne de la composante chromatique rouge Cr est:',mCr)\n",
        "print(\"L'écart type de la composante chromatique bleu Cb est:\",sigma_Cb)\n",
        "print(\"L'écart type de la composante chromatique rouge Cr est:\",sigma_Cr)"
      ],
      "metadata": {
        "colab": {
          "base_uri": "https://localhost:8080/"
        },
        "id": "skXt3aaPI8Er",
        "outputId": "8b10a042-fa7f-49f6-f025-649991448530"
      },
      "execution_count": 58,
      "outputs": [
        {
          "output_type": "stream",
          "name": "stdout",
          "text": [
            "La moyenne de la composante chromatique bleu Cb est: 114.6746835443038\n",
            "La moyenne de la composante chromatique rouge Cr est: 144.64008438818564\n",
            "L'écart type de la composante chromatique bleu Cb est: 16.05028552161101\n",
            "L'écart type de la composante chromatique rouge Cr est: 22.99090033591856\n"
          ]
        }
      ]
    },
    {
      "cell_type": "code",
      "source": [
        "def norm1(x, m, s): \n",
        "  p=1/(math.sqrt(2*math.pi)*s)*math.exp(-(x-m)*(x-m)/(2*s*s)) \n",
        "  return p\n",
        "\n",
        "p1_train=[]\n",
        "for i in range(len(X_train)):\n",
        "  p1_train.append(norm1(X_train[i,0], mCb, sigma_Cb) * norm1(X_train[i,1], mCr, sigma_Cr))\n",
        "  #densité de probabilité a priori des pixels de teinte chaire p(x/chair)\n",
        "  #estimer la probabilité de tous les pixels de la base d’apprentissage X_train d’appartenir à la teinte chaire\n",
        "\n",
        "print('La dimension de p1_train est:',np.shape(p1_train))"
      ],
      "metadata": {
        "colab": {
          "base_uri": "https://localhost:8080/"
        },
        "id": "fImJSyWiho1x",
        "outputId": "8d45d303-7b6b-43dd-c22d-684ba1e965f1"
      },
      "execution_count": 59,
      "outputs": [
        {
          "output_type": "stream",
          "name": "stdout",
          "text": [
            "La dimension de p1_train est: (2370,)\n"
          ]
        }
      ]
    },
    {
      "cell_type": "code",
      "source": [
        "P1_test=[]\n",
        "#Afin de classer les pixels de test X_test comme teinte chaire ou non, on estime la valeur de 𝑝(𝒙/𝑐ℎ𝑎𝑖𝑟) en ces points \n",
        "#que l’on stocke dans P1_test. Pour réaliser la classification, on seuille P1_test en utilisant comme seuil initial \n",
        "#la valeur moyenne de P1_train.\n",
        "for i in range(len(X_test)):\n",
        "  P1_test.append(norm1(X_test[i,0], mCb, sigma_Cb) * norm1(X_test[i,1], mCr, sigma_Cr))\n",
        "\n",
        "seuil=np.mean(p1_train)\n",
        "\n",
        "classif=[]\n",
        "for i in range(len(X_test)):\n",
        "  if P1_test[i]<seuil:\n",
        "    classif.append(0) #pas chair\n",
        "  else:\n",
        "    classif.append(1) #chair\n",
        "\n",
        "TP,TN,FP,FN=0,0,0,0\n",
        "for i in range(len(y_test)):\n",
        "  if classif[i]==0 and classif[i]==y_test[i]:\n",
        "    TN+=1\n",
        "  if classif[i]==0 and classif[i]!=y_test[i]:\n",
        "    FN+=1\n",
        "  if classif[i]==1 and classif[i]==y_test[i]:\n",
        "    TP+=1\n",
        "  if classif[i]==1 and classif[i]!=y_test[i]:\n",
        "    FP+=1\n",
        "\n",
        "print(\"Le nombre de vrai positif est:\",TP)\n",
        "print(\"Le nombre de vrai negatif est:\",TN)\n",
        "print(\"Le nombre de faux positif est:\",FP)\n",
        "print(\"Le nombre de faux negatif est:\",FN)\n",
        "\n",
        "#tn, fp, fn, tp = confusion_matrix(y_test, classif).ravel()\n",
        "#print(tn, fp, fn, tp)\n",
        "#print(recall_score(y_test, classif))  #la sensi\n",
        "#print(precision_score(y_test, classif)) #la precision\n",
        "\n",
        "sensi=TP/(TP+FN)  #sensibilité = rappel\n",
        "spe=TN/(TN+FP) #specificité\n",
        "pre=TP/(TP+FP) #precision\n",
        "\n",
        "print(\"La sensibilité est:\",sensi)\n",
        "print(\"La specificité est:\",spe)\n",
        "print(\"La précision est:\",pre)\n",
        "\n",
        "taux_reco=(TP+TN)/(TP+TN+FP+FN)  #taux de bonne reconnaissance\n",
        "print(\"Le taux de bonne reconnaissance est:\",taux_reco)"
      ],
      "metadata": {
        "colab": {
          "base_uri": "https://localhost:8080/"
        },
        "id": "uaz3dcInncpC",
        "outputId": "0cee3977-2349-48b4-921a-10c260c21eb5"
      },
      "execution_count": 60,
      "outputs": [
        {
          "output_type": "stream",
          "name": "stdout",
          "text": [
            "Le nombre de vrai positif est: 87\n",
            "Le nombre de vrai negatif est: 57\n",
            "Le nombre de faux positif est: 123\n",
            "Le nombre de faux negatif est: 17\n",
            "La sensibilité est: 0.8365384615384616\n",
            "La specificité est: 0.31666666666666665\n",
            "La précision est: 0.4142857142857143\n",
            "Le taux de bonne reconnaissance est: 0.5070422535211268\n"
          ]
        }
      ]
    },
    {
      "cell_type": "code",
      "source": [
        "#Plutôt que de choisir un seuil arbitraire, on choisit 20 valeurs de seuils \n",
        "#régulièrement réparties entre min(P1_train) et max(P1_train).\n",
        "\n",
        "NB = 20 \n",
        "step = (np.max(p1_train)-np.min(p1_train))/NB \n",
        "SEUILS = np.arange(np.min(p1_train), np.max(p1_train), step)\n",
        "\n",
        "#pred=[]\n",
        "#tpred=[]\n",
        "All_sensi=[]\n",
        "All_spe=[]\n",
        "\n",
        "for E in SEUILS:\n",
        "  classif2=[]\n",
        "  for i in range(len(X_test)):\n",
        "    if P1_test[i]<E:\n",
        "      classif2.append(0) #pas chair\n",
        "    else:\n",
        "      classif2.append(1) #chair\n",
        "  \n",
        "  TP,TN,FP,FN=0,0,0,0\n",
        "  for i in range(len(y_test)):\n",
        "    if classif2[i]==0 and classif2[i]==y_test[i]:\n",
        "      TN+=1\n",
        "    if classif2[i]==0 and classif2[i]!=y_test[i]:\n",
        "      FN+=1\n",
        "    if classif2[i]==1 and classif2[i]==y_test[i]:\n",
        "      TP+=1\n",
        "    if classif2[i]==1 and classif2[i]!=y_test[i]:\n",
        "      FP+=1\n",
        "\n",
        "  sensi=TP/(TP+FN)  #sensibilité = rappel\n",
        "  spe=TN/(TN+FP) #specificité\n",
        "  pre=TP/(TP+FP) #precision\n",
        "\n",
        "  All_sensi.append(sensi)\n",
        "  All_spe.append(1-spe)\n",
        "\n",
        "\n",
        "plt.plot(All_spe,All_sensi)\n",
        "  #pred.append(classif2)\n",
        "  #tpred.append(y_test)\n",
        "\n",
        "  #print('----------Pour le seuil',E,'on a: ----------')\n",
        "  #print('la sensibilité est:',recall_score(y_test, classif2))  #la sensibilité\n",
        "  #print('la précision est:',precision_score(y_test, classif2)) #la precision\n",
        "\n",
        "\n",
        "\n",
        "#RocCurveDisplay.from_predictions(tpred, pred)\n"
      ],
      "metadata": {
        "colab": {
          "base_uri": "https://localhost:8080/",
          "height": 282
        },
        "id": "UQ8z7aTt5eia",
        "outputId": "da3b172b-80c8-4164-b8e1-bdcb3cbd14cd"
      },
      "execution_count": 61,
      "outputs": [
        {
          "output_type": "execute_result",
          "data": {
            "text/plain": [
              "[<matplotlib.lines.Line2D at 0x7f7c8edc8890>]"
            ]
          },
          "metadata": {},
          "execution_count": 61
        },
        {
          "output_type": "display_data",
          "data": {
            "image/png": "[encoded data removed]",
            "text/plain": [
              "<Figure size 432x288 with 1 Axes>"
            ]
          },
          "metadata": {
            "needs_background": "light"
          }
        }
      ]
    }
  ]
}