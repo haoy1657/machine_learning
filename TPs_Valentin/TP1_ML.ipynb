{
  "cells": [
    {
      "cell_type": "code",
      "execution_count": 28,
      "metadata": {
        "id": "94udbqyqwtm6"
      },
      "outputs": [],
      "source": [
        "import numpy as np\n",
        "import matplotlib.pyplot as plt\n",
        "from sklearn.model_selection import train_test_split\n",
        "from sklearn.preprocessing import StandardScaler\n",
        "from sklearn.neighbors import KNeighborsClassifier\n",
        "from sklearn.metrics import confusion_matrix, accuracy_score"
      ]
    },
    {
      "cell_type": "code",
      "execution_count": 2,
      "metadata": {
        "id": "-eCphX9D0WSO"
      },
      "outputs": [],
      "source": [
        "def plot_gallery(images):\n",
        "    # Affiche les 12 premières images contenues dans images \n",
        "    # images est de taille Nb image*Ny*Nx\n",
        "  plt.figure(figsize=(7.2, 7.2)) \n",
        "  plt.subplots_adjust(bottom=0, left=.01, right=.99, top=.90, hspace=.35) \n",
        "  for i in range(12): \n",
        "    plt.subplot(3, 4, i + 1) \n",
        "    plt.imshow(images[i], cmap=plt.cm.gray) \n",
        "    plt.xticks(()) \n",
        "    plt.yticks(()) \n",
        "    plt.show() "
      ]
    },
    {
      "cell_type": "code",
      "execution_count": null,
      "metadata": {
        "colab": {
          "base_uri": "https://localhost:8080/",
          "height": 1000
        },
        "id": "zQXOswVZ0QHh",
        "outputId": "75459d0d-fe36-43b8-901e-d5a3e907aebf"
      },
      "outputs": [],
      "source": [
        "[X, y, name]=np.load(\"TP1.npy\",allow_pickle=True )\n",
        "\n",
        "plot_gallery(X)  #affiche les 12 premieres images de la liste de 1288 images\n",
        "\n",
        "print(\"Il y a \",len(X),\"images\")  #np.shape(X)[0]\n",
        "print(\"Il y a \",np.shape(X)[0],\"images de taille :\",np.shape(X)[1],\"x\",np.shape(X)[2])  \n",
        "#X[0] les grandes \"sous matrices\" --> 1 \"sous matrice\" = 1 image ???\n",
        "#X[1] et x[2] les petites \"sous matrices\" --> dimensions de l'image ???\n",
        "\n",
        "print(\"Il y a \",np.size(name),\"classes :\",name)  #parmi les 1288 images il n'y a que 7 personnes differentes (plusieurs images des mêmes personnes)\n",
        "\n",
        "y2=y[0:11]\n",
        "print(y2)\n",
        "print([name[i] for i in y2]) #donne l'identité des 12 personnes affichées"
      ]
    },
    {
      "cell_type": "code",
      "execution_count": 8,
      "metadata": {
        "colab": {
          "base_uri": "https://localhost:8080/",
          "height": 296
        },
        "id": "SqGf9vluxU7v",
        "outputId": "e8b4046c-4f9a-437e-d120-e2e89b2c37ba"
      },
      "outputs": [
        {
          "data": {
            "text/plain": [
              "Text(0, 0.5, \"nb d'images\")"
            ]
          },
          "execution_count": 8,
          "metadata": {},
          "output_type": "execute_result"
        },
        {
          "data": {
            "image/png": "[encoded data removed]",
            "text/plain": [
              "<Figure size 432x288 with 1 Axes>"
            ]
          },
          "metadata": {
            "needs_background": "light"
          },
          "output_type": "display_data"
        }
      ],
      "source": [
        "plt.hist(y)\n",
        "plt.xlabel(\"(classe) number\")\n",
        "plt.ylabel(\"nb d'images\")"
      ]
    },
    {
      "cell_type": "code",
      "execution_count": 9,
      "metadata": {
        "colab": {
          "base_uri": "https://localhost:8080/",
          "height": 626
        },
        "id": "dL9mVUnK89D1",
        "outputId": "0b3666c0-0398-4598-e952-e63343abb130"
      },
      "outputs": [
        {
          "data": {
            "image/png": "[encoded data removed]",
            "text/plain": [
              "<Figure size 1332x756 with 1 Axes>"
            ]
          },
          "metadata": {
            "needs_background": "light"
          },
          "output_type": "display_data"
        }
      ],
      "source": [
        "fig=plt.figure(1)\n",
        "plt.hist([name[i] for i in y])\n",
        "plt.xlabel(\"(classe) name\")\n",
        "plt.ylabel(\"nb d'images\")\n",
        "fig.set_size_inches(18.5,10.5,forward=True)"
      ]
    },
    {
      "cell_type": "markdown",
      "metadata": {
        "id": "rIjZYo0yAQ-X"
      },
      "source": [
        "Les classes ne sont pas équiprobables"
      ]
    },
    {
      "cell_type": "code",
      "execution_count": 10,
      "metadata": {
        "colab": {
          "base_uri": "https://localhost:8080/"
        },
        "id": "9M3Hol2TAVpn",
        "outputId": "e79908db-f936-4b51-a0c1-da5a649a1779"
      },
      "outputs": [
        {
          "name": "stdout",
          "output_type": "stream",
          "text": [
            "Il y a  77.0 exemples dans la classe Ariel Sharon\n",
            "Il y a  236.0 exemples dans la classe Colin Powell\n",
            "Il y a  121.0 exemples dans la classe Donald Rumsfeld\n",
            "Il y a  530.0 exemples dans la classe George W Bush\n",
            "Il y a  109.0 exemples dans la classe Gerhard Schroeder\n",
            "Il y a  71.0 exemples dans la classe Hugo Chavez\n",
            "Il y a  144.0 exemples dans la classe Tony Blair\n"
          ]
        }
      ],
      "source": [
        "k=np.zeros(7)\n",
        "for i in y:\n",
        "  k[i]+=1\n",
        "\n",
        "for i in range(0,7):\n",
        "  print(\"Il y a \",k[i],\"exemples dans la classe\",name[i])\n",
        "\n"
      ]
    },
    {
      "cell_type": "code",
      "execution_count": 16,
      "metadata": {
        "colab": {
          "base_uri": "https://localhost:8080/"
        },
        "id": "IdiRjx9LDrep",
        "outputId": "9d742e2c-c726-41b4-8890-2bb8caa790e4"
      },
      "outputs": [
        {
          "name": "stdout",
          "output_type": "stream",
          "text": [
            "Il y a  966 images en train\n",
            "Il y a  322 images en test\n",
            "Les dimensions de X_train sont : (966, 62, 47)\n",
            "Les dimensions de X_test sont : (322, 62, 47)\n",
            "Les dimensions de y_train sont : (966,)\n",
            "Les dimensions de y_test sont : (322,)\n"
          ]
        }
      ],
      "source": [
        "X_train,X_test,y_train,y_test= train_test_split(X,y,test_size=0.25) #Partitionne la base en une base d’apprentissage et une base de test en mettant 25% des données en test\n",
        "print(\"Il y a \",len(X_train),\"images en train\")\n",
        "print(\"Il y a \",len(X_test),\"images en test\")\n",
        "\n",
        "print(\"Les dimensions de X_train sont :\",np.shape(X_train))\n",
        "print(\"Les dimensions de X_test sont :\",np.shape(X_test))\n",
        "print(\"Les dimensions de y_train sont :\",np.shape(y_train))\n",
        "print(\"Les dimensions de y_test sont :\",np.shape(y_test))\n"
      ]
    },
    {
      "cell_type": "code",
      "execution_count": 23,
      "metadata": {
        "id": "nOKoGA0NGEgU"
      },
      "outputs": [],
      "source": [
        "n=2914\n",
        "#X_train2=[X_train[:,1,2]]\n",
        "#print(np.shape(X_train2))\n",
        "#X_train3=np.reshape(np.shape(X_train2),n)\n",
        "#print(\"Les dimensions de X_train sont :\",np.shape(X_train))\n",
        "#X_train.reshape(966,n,1)\n",
        "\n",
        "#X_train = np.reshape(X_train,(np.shape(X_train)[0],np.shape(X)[1] * np.shape(X)[2]))\n",
        "#X_test = np.reshape(X_test,(np.shape(X_test)[0],np.shape(X)[1] * np.shape(X)[2]))\n",
        "\n",
        "#X_train.reshape(np.shape(X_train)[0],np.shape(X_train)[1] * np.shape(X_train)[2])\n",
        "#X_test.reshape(np.shape(X_test)[0],np.shape(X_test)[1] * np.shape(X_test)[2])\n",
        "\n",
        "X_train = np.reshape(X_train,(np.shape(X_train)[0],np.shape(X_train)[1] * np.shape(X_train)[2]))\n",
        "X_test = np.reshape(X_test,(np.shape(X_test)[0],np.shape(X_test)[1] * np.shape(X_test)[2]))"
      ]
    },
    {
      "cell_type": "code",
      "execution_count": 35,
      "metadata": {
        "id": "uuB6j05RQu6j"
      },
      "outputs": [],
      "source": [
        "scaler = StandardScaler().fit(X_train) #fit est une methode de StandardScaler qui Compute the mean and std to be used for later scaling.\n",
        "X_scaled = scaler.transform(X_train) #transform est une methode de StandardScaler qui Perform standardization by centering and scaling.\n",
        "\n",
        "scaler_test = StandardScaler().fit(X_test)\n",
        "X_scaled_test = scaler.transform(X_test)\n",
        "\n",
        "# données moyenné centré \n",
        "\n",
        "# StandardScaler = Standardize features by removing the mean and scaling to unit variance.\n",
        "\n",
        "#The standard score of a sample x is calculated as:  z = (x - u) / s\n",
        "#where u is the mean of the training samples or zero if with_mean=False, and s is the standard \n",
        "#deviation of the training samples or one if with_std=False.\n",
        "#Centering and scaling happen independently on each feature by computing the relevant \n",
        "#statistics on the samples in the training set. Mean and standard deviation are \n",
        "#then stored to be used on later data using transform.\n",
        "\n",
        "#in practice we often ignore the shape of the distribution and just transform the data \n",
        "#to center it by removing the mean value of each feature, then scale it by dividing non-constant features \n",
        "#by their standard deviation.\n",
        "#For instance, many elements used in the objective function of a learning algorithm assume that all features are \n",
        "#centered around zero and have variance in the same order. If a feature has a variance that is orders of magnitude \n",
        "#larger than others, it might dominate the objective function and make the estimator unable to learn from \n",
        "#other features correctly as expected.\n",
        "\n",
        "#Intro: Je suppose que vous avez une matrice X où chaque ligne / ligne est un échantillon / observation et chaque \n",
        "#colonne est une variable / caractéristique (c'est l'entrée attendue pour \n",
        "#toute sklearnfonction ML d'ailleurs - X.shape devrait être [number_of_samples, number_of_features]).\n",
        "#Cœur de la méthode : L'idée principale est de normaliser / standardiser ie μ = 0 et σ = 1 vos \n",
        "#fonctionnalités / variables / colonnes de X, individuellement , avant d' appliquer tout modèle d'apprentissage automatique.\n",
        "\n",
        "#StandardScaler()va normaliser les caractéristiques dire que chaque colonne de X, INDIVIDUELLEMENT , de sorte \n",
        "#que chaque colonne / fonction / variables auront μ = 0et σ = 1."
      ]
    },
    {
      "cell_type": "code",
      "execution_count": 37,
      "metadata": {
        "colab": {
          "base_uri": "https://localhost:8080/"
        },
        "id": "VbZ9LonszREZ",
        "outputId": "481a2d98-fce4-49a7-f723-d1d2c9ca8af9"
      },
      "outputs": [
        {
          "name": "stdout",
          "output_type": "stream",
          "text": [
            "[[ 7  3  1  4  0  0  1]\n",
            " [ 6 29  2 12  1  0  3]\n",
            " [ 1  8 15 12  0  0  2]\n",
            " [ 1 12  9 94  2  4  9]\n",
            " [ 0  3  2  1  8  1  8]\n",
            " [ 0  0  1  3  3  8  1]\n",
            " [ 1  3  2  9  5  0 25]]\n",
            "186\n",
            "186\n"
          ]
        }
      ],
      "source": [
        "neigh = KNeighborsClassifier( n_neighbors=1, metric='euclidean') #KNeighborsClassifier est une classe d'objets adapté au K voisin en ML ?\n",
        "neigh.fit(X_train, y_train)  #méthode de la classe KNeighborsClassifier renvoyant les k voisins les plus proches ?\n",
        "\n",
        "y_pred = neigh.predict(X_test)   #classification des exemples tests  \n",
        "#predict est une methode de la classe KNeighborsClassifier mais elle existe dans d'autre trucs sur python\n",
        "# utilisation de predict --->  model.predict(data)\n",
        "\n",
        "print(confusion_matrix(y_pred=y_pred, y_true=y_test))  #matrice de confusion\n",
        "print(confusion_matrix(y_pred=y_pred, y_true=y_test).trace()) #taux de reconnaissance de la matrice de confusion\n",
        "#les valeurs sur la diagonales correspondent aux Trues de chaque features\n",
        "#la somme des Trues (aka la Trace) correspondant au taux de reconnaissance.\n",
        "#si on avait que 2 features (positif et negatif) alors les termes diagonaux seraient les Trues Positifs et les Trues Negatifs\n",
        "#confusion matrix ---> Compute confusion matrix to evaluate the accuracy of a classification.\n",
        "\n",
        "#taux de reconnaissance de la matrice de confusion renvoyé par la fonction accuracy_score\n",
        "print(accuracy_score(y_test, y_pred, normalize=False)) "
      ]
    },
    {
      "cell_type": "markdown",
      "metadata": {
        "id": "bc004LLs7nF8"
      },
      "source": [
        "On constate que les classes ne sont pas équilibrées car grosses différence entre les termes diagonaux"
      ]
    },
    {
      "cell_type": "code",
      "execution_count": 38,
      "metadata": {
        "id": "ylpWzlV87uzR"
      },
      "outputs": [],
      "source": [
        "scores = []\n",
        "k_liste = list(range(1,10))\n",
        "for k in k_liste:\n",
        "  neigh = KNeighborsClassifier( n_neighbors=k,metric='euclidean')\n",
        "  neigh.fit(X_train, y_train)\n",
        "  y_pred = neigh.predict(X_test)\n",
        "  scores.append(accuracy_score(y_test, y_pred, normalize=False))"
      ]
    },
    {
      "cell_type": "code",
      "execution_count": 39,
      "metadata": {
        "colab": {
          "base_uri": "https://localhost:8080/",
          "height": 282
        },
        "id": "VoCt5ISf75Z5",
        "outputId": "ad2179f2-4d69-4e8f-a13f-8f679ea95618"
      },
      "outputs": [
        {
          "data": {
            "text/plain": [
              "[<matplotlib.lines.Line2D at 0x7fd110f71450>]"
            ]
          },
          "execution_count": 39,
          "metadata": {},
          "output_type": "execute_result"
        },
        {
          "data": {
            "image/png": "[encoded data removed]",
            "text/plain": [
              "<Figure size 432x288 with 1 Axes>"
            ]
          },
          "metadata": {
            "needs_background": "light"
          },
          "output_type": "display_data"
        }
      ],
      "source": [
        "plt.plot(k_liste,scores)"
      ]
    },
    {
      "cell_type": "code",
      "execution_count": 40,
      "metadata": {
        "id": "9ejx9dtq8AnX"
      },
      "outputs": [],
      "source": [
        "scores = []\n",
        "k_liste = list(range(1,10))\n",
        "for k in k_liste:\n",
        "  neigh = KNeighborsClassifier( n_neighbors=k,metric='manhattan')\n",
        "  neigh.fit(X_train, y_train)\n",
        "  y_pred = neigh.predict(X_test)\n",
        "  scores.append(accuracy_score(y_test, y_pred, normalize=False))"
      ]
    },
    {
      "cell_type": "code",
      "execution_count": 41,
      "metadata": {
        "colab": {
          "base_uri": "https://localhost:8080/",
          "height": 282
        },
        "id": "bOtdeJf28Fx3",
        "outputId": "e5d3f365-a153-441d-fb75-6ef09e300c80"
      },
      "outputs": [
        {
          "data": {
            "text/plain": [
              "[<matplotlib.lines.Line2D at 0x7fd110eaefd0>]"
            ]
          },
          "execution_count": 41,
          "metadata": {},
          "output_type": "execute_result"
        },
        {
          "data": {
            "image/png": "[encoded data removed]",
            "text/plain": [
              "<Figure size 432x288 with 1 Axes>"
            ]
          },
          "metadata": {
            "needs_background": "light"
          },
          "output_type": "display_data"
        }
      ],
      "source": [
        "plt.plot(k_liste,scores)"
      ]
    }
  ],
  "metadata": {
    "colab": {
      "collapsed_sections": [],
      "name": "TP1_ML.ipynb",
      "provenance": []
    },
    "kernelspec": {
      "display_name": "Python 3",
      "name": "python3"
    },
    "language_info": {
      "name": "python"
    }
  },
  "nbformat": 4,
  "nbformat_minor": 0
}
