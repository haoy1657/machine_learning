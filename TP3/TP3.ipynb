{
  "nbformat": 4,
  "nbformat_minor": 0,
  "metadata": {
    "colab": {
      "name": "Untitled3.ipynb",
      "provenance": [],
      "collapsed_sections": []
    },
    "kernelspec": {
      "name": "python3",
      "display_name": "Python 3"
    },
    "language_info": {
      "name": "python"
    }
  },
  "cells": [
    {
      "cell_type": "code",
      "source": [
        "import numpy as np\n",
        "import matplotlib.pyplot as plt"
      ],
      "metadata": {
        "id": "dY3VdX4V645o"
      },
      "execution_count": 2,
      "outputs": []
    },
    {
      "cell_type": "code",
      "execution_count": 4,
      "metadata": {
        "colab": {
          "base_uri": "https://localhost:8080/",
          "height": 282
        },
        "id": "aGhslXrQ6l-W",
        "outputId": "007707cd-b0c5-4190-f625-d2979cc92034"
      },
      "outputs": [
        {
          "output_type": "execute_result",
          "data": {
            "text/plain": [
              "<function matplotlib.pyplot.show>"
            ]
          },
          "metadata": {},
          "execution_count": 4
        },
        {
          "output_type": "display_data",
          "data": {
            "image/png": "[encoded data removed]",
            "text/plain": [
              "<Figure size 432x288 with 1 Axes>"
            ]
          },
          "metadata": {
            "needs_background": "light"
          }
        }
      ],
      "source": [
        "[X_train, y_train, X_test, y_test] = np.load(\"TP3.npy\",allow_pickle=True)\n",
        "#Pixel peau \n",
        "T_train = X_train[np.where(y_train==1),:] \n",
        "\n",
        "T_train = np.reshape(T_train,(T_train.shape[1],T_train.shape[2] )) \n",
        "#Pixel non peau \n",
        "F_train = X_train[np.where(y_train==0),:] \n",
        "F_train = np.reshape(F_train,(F_train.shape[1],F_train.shape[2] ))\n",
        "plt.plot(F_train[:,0], F_train[:,1], '.b') \n",
        "plt.show\n",
        "plt.plot(T_train[:,0], T_train[:,1], '.r') \n",
        "plt.show"
      ]
    },
    {
      "cell_type": "markdown",
      "source": [
        "Combien y a-t-il de pixels de teinte chaire ? de teinte non chaire ? Quelle est la dimension des données ?"
      ],
      "metadata": {
        "id": "RfwuoaD97w35"
      }
    },
    {
      "cell_type": "code",
      "source": [
        "print ( \"il y'a {} pixels de teinte chaire\".format(np.shape(T_train)))\n",
        "print ( \"il y'a {} pixels de teinte chaire\".format(np.shape(F_train)))\n"
      ],
      "metadata": {
        "colab": {
          "base_uri": "https://localhost:8080/"
        },
        "id": "XFgMoMFx8RDg",
        "outputId": "3cd45500-7a4a-4aba-ab20-3571da8fe1bf"
      },
      "execution_count": 5,
      "outputs": [
        {
          "output_type": "stream",
          "name": "stdout",
          "text": [
            "il y'a (639, 2) pixels de teinte chaire\n",
            "il y'a (1731, 2) pixels de teinte chaire\n"
          ]
        }
      ]
    },
    {
      "cell_type": "code",
      "source": [
        "# II. Modélisation de la densité de probabilité a priori de la teinte chaire par une loi normale 2D avec des dimensions décorrélées"
      ],
      "metadata": {
        "id": "aeIo4UW589ec"
      },
      "execution_count": 6,
      "outputs": []
    },
    {
      "cell_type": "code",
      "source": [
        "import math \n",
        "def norm1(x, m, s): \n",
        "  p =1/(math.sqrt(2*math.pi)*s)*math.exp(-(x-m)*(x-m)/(2*s*s)) \n",
        "  return p"
      ],
      "metadata": {
        "id": "0G5rIMaK9-hC"
      },
      "execution_count": 7,
      "outputs": []
    },
    {
      "cell_type": "code",
      "source": [
        "#Déterminer 𝑚Cb, 𝑚Cr, 𝜎Cb, 𝜎Cr.\n",
        "\n",
        "\"\"\"Cb == axe 0\n",
        "Cr == axe 1 \"\"\"\n",
        "# Les données stats possedent deux axes "
      ],
      "metadata": {
        "colab": {
          "base_uri": "https://localhost:8080/",
          "height": 35
        },
        "id": "eASR3CKD-N3N",
        "outputId": "e7f0f027-589c-4dfa-b05f-6607e1fc7b08"
      },
      "execution_count": 8,
      "outputs": [
        {
          "output_type": "execute_result",
          "data": {
            "application/vnd.google.colaboratory.intrinsic+json": {
              "type": "string"
            },
            "text/plain": [
              "'Cb == axe 0\\nCr == axe 1 '"
            ]
          },
          "metadata": {},
          "execution_count": 8
        }
      ]
    },
    {
      "cell_type": "code",
      "source": [
        "# Lors de la classification , on compare notre classe avec d'autres données"
      ],
      "metadata": {
        "id": "VvtEieQg-pWw"
      },
      "execution_count": null,
      "outputs": []
    },
    {
      "cell_type": "code",
      "source": [
        "mCr = np.mean(T_train[:,1]) #\n",
        "print(\"mCr vaut : \" , mCr)\n",
        "\n",
        "mCb = np.mean(T_train[:,0])\n",
        "print(\"mCb vaut : \" , mCb)\n",
        "\n",
        "Sigma_Cr = np.std(T_train[:,1])\n",
        "print(\"𝜎Cr vaut : \" , Sigma_Cr)\n",
        "\n",
        "Sigma_Cb = np.std(T_train[:,0]) # Ecart type\n",
        "print(\"𝜎Cb vaut : \" , Sigma_Cb)\n",
        "\n"
      ],
      "metadata": {
        "colab": {
          "base_uri": "https://localhost:8080/"
        },
        "id": "Z-8ejp8h_dlX",
        "outputId": "6ef2c60e-fdb8-4604-f129-7ddaae5664ac"
      },
      "execution_count": 9,
      "outputs": [
        {
          "output_type": "stream",
          "name": "stdout",
          "text": [
            "mCr vaut :  155.19405320813772\n",
            "mCb vaut :  104.29577464788733\n",
            "𝜎Cr vaut :  11.607693835769547\n",
            "𝜎Cb vaut :  9.067914388009926\n"
          ]
        }
      ]
    },
    {
      "cell_type": "code",
      "source": [
        "# Utiliser la fonction norm1(𝑥, 𝑚, 𝜎) pour estimer la probabilité de tous les pixels de la base d’apprentissage X_train d’appartenir à la teinte chaire"
      ],
      "metadata": {
        "id": "39IXv55HC6MB"
      },
      "execution_count": null,
      "outputs": []
    },
    {
      "cell_type": "code",
      "source": [
        "\"\"\" La fonction norm1 est pour une valeur de x , et X_train possède plusieurs valeurs\"\"\"\n",
        "\n",
        "pl_train =  [norm1 ( X[0], mCb , Sigma_Cb) * norm1 ( X[1], mCr , Sigma_Cr) for X in X_train]"
      ],
      "metadata": {
        "id": "OWIjrYQdDDVA"
      },
      "execution_count": 10,
      "outputs": []
    },
    {
      "cell_type": "code",
      "source": [
        "plt.plot(pl_train)"
      ],
      "metadata": {
        "colab": {
          "base_uri": "https://localhost:8080/",
          "height": 282
        },
        "id": "neSUSH70D9Oa",
        "outputId": "44c4e27d-7751-48f5-9c90-ec1df921113f"
      },
      "execution_count": 11,
      "outputs": [
        {
          "output_type": "execute_result",
          "data": {
            "text/plain": [
              "[<matplotlib.lines.Line2D at 0x7f4855845d10>]"
            ]
          },
          "metadata": {},
          "execution_count": 11
        },
        {
          "output_type": "display_data",
          "data": {
            "image/png": "[encoded data removed]",
            "text/plain": [
              "<Figure size 432x288 with 1 Axes>"
            ]
          },
          "metadata": {
            "needs_background": "light"
          }
        }
      ]
    },
    {
      "cell_type": "code",
      "source": [
        "# Quelle est la dimension de 𝑚Cb, 𝑚Cr, 𝜎Cb, 𝜎Cr ? \n",
        "# ce sont des scalaires , de dimension 1 \n",
        "\n",
        "# Pour un pixel 𝒙 de teinte chaire donnée, quelle est la dimension de 𝑝(𝒙/𝑐ℎ𝑎𝑖𝑟) ?\n",
        "\n",
        "\n",
        "\n",
        "#Quelle est la dimension du vecteur p1_train ?\n",
        "print( \" la dimension du vecteur p1_train est : \", np.shape(pl_train), \"SUIIIIIIIIIIIIIII\") \n",
        "\n",
        "#Quelle hypothèse nous permet d’estimer la valeur de la loi normale à partir de l’équation précédente ?\n",
        "# d'apres abdel , aucune idée "
      ],
      "metadata": {
        "colab": {
          "base_uri": "https://localhost:8080/"
        },
        "id": "r9YMpQkYEOfR",
        "outputId": "737de6c0-15c2-4e4a-8fde-405eeca9fa7d"
      },
      "execution_count": 12,
      "outputs": [
        {
          "output_type": "stream",
          "name": "stdout",
          "text": [
            " la dimension du vecteur p1_train est :  (2370,) SUIIIIIIIIIIIIIII\n"
          ]
        }
      ]
    },
    {
      "cell_type": "code",
      "source": [
        "# b. Classification"
      ],
      "metadata": {
        "id": "pzfHFE-eGRE6"
      },
      "execution_count": null,
      "outputs": []
    },
    {
      "cell_type": "markdown",
      "source": [
        "Afin de classer les pixels de test X_test comme teinte chaire ou non, \n",
        "on estime la valeur de 𝑝(𝒙/𝑐ℎ𝑎𝑖𝑟) en ces points que l’on stocke dans P1_test. \n",
        "Pour réaliser la classification, on seuille P1_test en utilisant comme seuil initial la valeur moyenne de P1_train."
      ],
      "metadata": {
        "id": "EXZYkB09IHp3"
      }
    },
    {
      "cell_type": "code",
      "source": [
        "\n",
        "\n",
        "seuil_train = np.mean(pl_train)\n",
        "\n",
        "def Classification(seuil) : \n",
        "  TP = 0 \n",
        "  TN = 0 \n",
        "  FP = 0 \n",
        "  FN = 0\n",
        "    \n",
        "  pl_test = []\n",
        "  for i , X in enumerate(X_test) : \n",
        "\n",
        "    pl_test.append( norm1 ( X[0], mCb , Sigma_Cb) * norm1 ( X[1], mCr , Sigma_Cr) ) \n",
        "\n",
        "    if pl_test[i] > seuil and y_test[i] == 1 : \n",
        "      TP += 1 \n",
        "    if pl_test[i] > seuil and y_test[i] == 0 : \n",
        "      FP += 1\n",
        "    if pl_test[i] < seuil and y_test[i] == 0 : \n",
        "      TN += 1\n",
        "    if pl_test[i] < seuil and y_test[i] == 1 : \n",
        "      FN += 1\n",
        "    \n",
        "  return TP,TN,FP,FN\n",
        "    \n",
        "Classification(seuil_train)\n",
        "print( \"TP = \" , Classification(seuil_train)[0])\n",
        "print( \"TN = \" , Classification(seuil_train)[1])\n",
        "print( \"FP = \" , Classification(seuil_train)[2])\n",
        "print( \"FN = \" , Classification(seuil_train)[3])\n",
        "\n",
        "\n",
        "\n",
        "\n",
        "\n"
      ],
      "metadata": {
        "colab": {
          "base_uri": "https://localhost:8080/"
        },
        "id": "NmlQjZjIJAlh",
        "outputId": "e1705e5a-b399-4e82-de52-cb4356ff6268"
      },
      "execution_count": 13,
      "outputs": [
        {
          "output_type": "stream",
          "name": "stdout",
          "text": [
            "TP =  102\n",
            "TN =  120\n",
            "FP =  60\n",
            "FN =  2\n"
          ]
        }
      ]
    },
    {
      "cell_type": "markdown",
      "source": [
        "A partir de la base d'entrainement , on en tire des données que l'on veut utiliser (ici le seuil avec la moyenne de la base de training). On applique ces données a la base de test et il nous reste toujours une infirmation sur cette base de test (vérité de terrain).\n",
        "\n",
        "y_test ==  vérité ( plot y pour comprendre)"
      ],
      "metadata": {
        "id": "-jYqlp_qPICb"
      }
    },
    {
      "cell_type": "code",
      "source": [
        "plt.plot(y_test)"
      ],
      "metadata": {
        "colab": {
          "base_uri": "https://localhost:8080/",
          "height": 282
        },
        "id": "AVVEuqJtQ6fx",
        "outputId": "293ec738-9490-46e2-c637-05c80015fc30"
      },
      "execution_count": 14,
      "outputs": [
        {
          "output_type": "execute_result",
          "data": {
            "text/plain": [
              "[<matplotlib.lines.Line2D at 0x7f4855812fd0>]"
            ]
          },
          "metadata": {},
          "execution_count": 14
        },
        {
          "output_type": "display_data",
          "data": {
            "image/png": "[encoded data removed]",
            "text/plain": [
              "<Figure size 432x288 with 1 Axes>"
            ]
          },
          "metadata": {
            "needs_background": "light"
          }
        }
      ]
    },
    {
      "cell_type": "code",
      "source": [
        "\"\"\"for i in y_test : \n",
        "  if i == 1 : \n",
        "    print (i , \"Chaire\",'\\n')\n",
        "  else : \n",
        "    print(i , \"Non chaire\",'\\n')\"\"\""
      ],
      "metadata": {
        "colab": {
          "base_uri": "https://localhost:8080/",
          "height": 35
        },
        "id": "PRgDpOUvRCiz",
        "outputId": "1fe63071-d252-470b-d089-21e13e28efbc"
      },
      "execution_count": 21,
      "outputs": [
        {
          "output_type": "execute_result",
          "data": {
            "application/vnd.google.colaboratory.intrinsic+json": {
              "type": "string"
            },
            "text/plain": [
              "'for i in y_test : \\n  if i == 1 : \\n    print (i , \"Chaire\",\\'\\n\\')\\n  else : \\n    print(i , \"Non chaire\",\\'\\n\\')'"
            ]
          },
          "metadata": {},
          "execution_count": 21
        }
      ]
    },
    {
      "cell_type": "code",
      "source": [
        "# Comment estimer la sensibilité et la spécificité ? "
      ],
      "metadata": {
        "id": "vt8cIxkcRXDa"
      },
      "execution_count": null,
      "outputs": []
    },
    {
      "cell_type": "code",
      "source": [
        "TP = Classification(seuil_train)[0] ; print( \"TP = \" , TP)\n",
        "TN = Classification(seuil_train)[1] ;  print( \"TN = \" , TN )\n",
        "FP  = Classification(seuil_train)[2] ; print( \"FP = \" , FP)\n",
        "FN = Classification(seuil_train)[3] ; print( \"FN = \" ,FN)\n",
        "\n",
        "\n",
        "sensibilite = TP/(TP+FN)\n",
        "print(\"Sensibilité = \" , sensibilite)\n",
        "spec = TN/(FP+TN)\n",
        "print(\"Specificité = \" , spec)"
      ],
      "metadata": {
        "colab": {
          "base_uri": "https://localhost:8080/"
        },
        "id": "Q0k8Yv1_RfAk",
        "outputId": "1ad0d7b1-8269-43f3-e229-209f347fd358"
      },
      "execution_count": 18,
      "outputs": [
        {
          "output_type": "stream",
          "name": "stdout",
          "text": [
            "TP =  102\n",
            "TN =  120\n",
            "FP =  60\n",
            "FN =  2\n",
            "Sensibilité =  0.9807692307692307\n",
            "Specificité =  0.6666666666666666\n"
          ]
        }
      ]
    },
    {
      "cell_type": "code",
      "source": [
        "taux = (TP+TN)/len(X_test)\n",
        "print(\"Le taux de positivité :\" , taux)"
      ],
      "metadata": {
        "colab": {
          "base_uri": "https://localhost:8080/"
        },
        "id": "gaYDkjAFSJdF",
        "outputId": "80d6380a-215e-466a-f0b4-25de97379e06"
      },
      "execution_count": 19,
      "outputs": [
        {
          "output_type": "stream",
          "name": "stdout",
          "text": [
            "Le taux de positivité : 0.7816901408450704\n"
          ]
        }
      ]
    },
    {
      "cell_type": "markdown",
      "source": [
        "### c. Courbe ROC"
      ],
      "metadata": {
        "id": "Tci6uSTISoxz"
      }
    },
    {
      "cell_type": "code",
      "source": [
        "NB = 20 \n",
        "step = (np.max(pl_train) - np.min(pl_train) ) / NB \n",
        "SEUILS = np.arange (np.min(pl_train), np.max(pl_train), step)"
      ],
      "metadata": {
        "id": "Cu4THEOYS5MH"
      },
      "execution_count": 20,
      "outputs": []
    },
    {
      "cell_type": "code",
      "source": [
        "Sens = [] \n",
        "Spec = [] # 1 - specificite\n",
        "\n",
        "for seuils in SEUILS : \n",
        "\n",
        "  TP = Classification(seuils)[0] \n",
        "  TN = Classification(seuils)[1] \n",
        "  FP  = Classification(seuils)[2]\n",
        "  FN = Classification(seuils)[3]\n",
        "  \n",
        "  Sens.append(TP/(TP+FN))\n",
        "  Spec.append(1 - TN/(FP+TN))\n",
        "\n",
        "\n",
        "\n",
        "plt.plot(Spec,Sens)\n",
        "\n",
        "\n",
        "\n",
        "\n"
      ],
      "metadata": {
        "colab": {
          "base_uri": "https://localhost:8080/",
          "height": 282
        },
        "id": "hnUf5lKjUFjZ",
        "outputId": "954d0a00-290d-4cbf-dff4-1e27cc75b0c0"
      },
      "execution_count": 22,
      "outputs": [
        {
          "output_type": "execute_result",
          "data": {
            "text/plain": [
              "[<matplotlib.lines.Line2D at 0x7f4853ff0e90>]"
            ]
          },
          "metadata": {},
          "execution_count": 22
        },
        {
          "output_type": "display_data",
          "data": {
            "image/png": "[encoded data removed]",
            "text/plain": [
              "<Figure size 432x288 with 1 Axes>"
            ]
          },
          "metadata": {
            "needs_background": "light"
          }
        }
      ]
    }
  ]
}